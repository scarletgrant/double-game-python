{
 "cells": [
  {
   "cell_type": "markdown",
   "metadata": {},
   "source": [
    "## Dobble\n",
    "A simple implementation of the Dobble card game has is created. Each card has eight images and each pair of cards will have exactly one image in common. The game is to be the first to spot the matching image on each pair. For the game, one card is revealed each time and compared with the last card in the game. This way, each card is involved twice. At the beginning of the game, players decide how many rounds they want to play in the game. Players can record who won with 'A' or 'B', and a draw can be recorded with a 'D' or 'd'."
   ]
  },
  {
   "cell_type": "markdown",
   "metadata": {},
   "source": [
    "### Files\n",
    "An emoji package is used for this game. To install please use: pip install emoji --upgrade\n",
    "This game uses a .text file (emoji_names) with 57 emoji's. The original required file had 60, but 3 names did not presented an emoji from the package and therefor they have been removed."
   ]
  },
  {
   "cell_type": "markdown",
   "metadata": {
    "code_folding": []
   },
   "source": [
    "### Structure\n",
    "\n",
    "**image_dictionary:** \n",
    "57 emoji's are stored in image_dictionary\n",
    "\n",
    "**card_dictionary:** \n",
    "Generates cards with sets of image_ids and stores them in dictionary with the card number as key and the image id's (in a set) as the value.\n",
    "\n",
    "**Class DoubleCard*:** \n",
    "A simple set blueprint for the cards. There are 57 valid cards.\n",
    "\n",
    "**Class DobbleDeck*:** \n",
    "It holds and manages a deck of cards that are stored as DoubleCard instances ad has three methods:\n",
    "\n",
    "    1. add_card*\n",
    "    2. remove_card*\n",
    "    3. play_card*\n",
    "\n",
    "**Function generate_cards:** \n",
    "Generates cards with sets of image_ids and stores them in card_dictionary. \n",
    "For the generation of the pairs with only one matching image, some sample code has been given and edited. It works only when the number of images on the card is a primenumber plus 1, e.g. 3,4,6,8. The program is designed to be as flexible as possible for future changes and updates. Upon delivery, the function 'generate_cards' takes 8 images as requested, but this can be quickly adjusted with an argument when calling the function. The amount of available cards can vary for each image number which should be taken into account when adjusting the game.\n",
    "\n",
    "**Function check_validity:**\n",
    "A check_validity function is created that will take the deck as argument and check if the cards only match on one image. The intersection method is used here for the validation. This function is callable in two modes:\n",
    "1. check_validity(deck, verbose = True)\n",
    "2. check_validity(deck)\n",
    "The first one produces output after validation.\n",
    "\n",
    "**Function print_card_format:** \n",
    "Casts the image_ids to an emoji with the image_dictionary\n",
    "\n",
    "**Function print_cards:**\n",
    "Calls the print_card_format\n",
    "\n",
    "**Function dobble_game*:**\n",
    "Allows two users to play. It will present 'cards' as lists of emoji's by calling the format function. The users will decide who wins and provide the input to record the win counts.\n",
    "\n",
    "\n",
    "*This class, method or function have been created by requirement \n"
   ]
  },
  {
   "cell_type": "code",
   "execution_count": 13,
   "metadata": {
    "code_folding": []
   },
   "outputs": [],
   "source": [
    "# Import modules\n",
    "import random\n",
    "import emoji\n",
    "\n",
    "# Create image dictionary from file that will be loaded that contains the specific emoji names (57x) that we want\n",
    "image_dictionary = dict()\n",
    "\n",
    "filename = open('emoji_names.txt',\"r\")\n",
    "lines = filename.readlines()\n",
    "\n",
    "# Looping through the lines in the file and make additions to the dictionary\n",
    "for i, el in enumerate(lines):\n",
    "    image_dictionary[i+1] = emoji.emojize(el.strip())"
   ]
  },
  {
   "cell_type": "code",
   "execution_count": 14,
   "metadata": {
    "code_folding": []
   },
   "outputs": [],
   "source": [
    "# We create blueprint for the DobbleCards\n",
    "class DobbleCard:\n",
    "\n",
    "    def __init__(self, total_images, card_id, set_of_image_ids):\n",
    "        self.total_images = total_images\n",
    "        self.card_id = card_id\n",
    "        self.set_of_image_ids = set_of_image_ids"
   ]
  },
  {
   "cell_type": "code",
   "execution_count": 15,
   "metadata": {
    "code_folding": []
   },
   "outputs": [],
   "source": [
    "# We create blueprint and methods for creating and managing the Deck (adding, removing, playing cards)\n",
    "class DobbleDeck:\n",
    "    \n",
    "    # Deck blueprint\n",
    "    def __init__(self):\n",
    "        self.deck = []\n",
    "        self.__in_game = []\n",
    "        pass\n",
    "    \n",
    "    # Method to add card to the deck\n",
    "    def add_card(self, card):\n",
    "        self.deck.append(card)\n",
    "\n",
    "    # Method to remove a card from the deck\n",
    "    def remove_card(self, card_id):\n",
    "        card_index = -1\n",
    "        for index, card in enumerate(self.deck):\n",
    "            if card.card_id == card_id:\n",
    "                card_index = index\n",
    "\n",
    "        if self.deck[card_index].card_id in self.__in_game:\n",
    "            self.__in_game.remove(self.deck[card_index].card_id)\n",
    "        del self.deck[card_index]\n",
    "\n",
    "    # Method to play a random card that is still in the game\n",
    "    def play_card(self):\n",
    "        random.shuffle(self.deck)\n",
    "\n",
    "        if len(self.__in_game) == 0:\n",
    "            to_play = self.deck[0]\n",
    "            self.__in_game.append(to_play.card_id)\n",
    "            return self.deck[0]\n",
    "        else:\n",
    "            playable = list(filter(lambda x: x.card_id not in self.__in_game, self.deck))\n",
    "            if len(playable) > 0:\n",
    "                self.__in_game.append(playable[0].card_id)\n",
    "                return playable[0]\n",
    "            else:\n",
    "                return None"
   ]
  },
  {
   "cell_type": "code",
   "execution_count": 16,
   "metadata": {
    "code_folding": []
   },
   "outputs": [],
   "source": [
    "# With this function we generate cards and make them accessable in card_dictionary\n",
    "def generate_cards(total_images):\n",
    "    card_dictionary = {}\n",
    "    n = total_images - 1\n",
    "    r = range(n)\n",
    "    r_plus1 = range(n + 1)\n",
    "    card_index = 1\n",
    "\n",
    "    set_of_image_ids = [i + 1 for i in r_plus1]\n",
    "    card_dictionary[card_index] = set(set_of_image_ids)\n",
    "\n",
    "    for j in r:\n",
    "        card_index += 1\n",
    "\n",
    "        set_of_image_ids = [n + 2 + n * j + k for k in r]\n",
    "        set_of_image_ids.append(1)\n",
    "        card_dictionary[card_index] = set(set_of_image_ids)\n",
    "\n",
    "    for i in r:\n",
    "        for j in r:\n",
    "            card_index += 1\n",
    "\n",
    "            set_of_image_ids = [(n + 1 + n * k + (i * k + j) % n) + 1 for k in r]\n",
    "            set_of_image_ids.append(i + 2)\n",
    "            card_dictionary[card_index] = set(set_of_image_ids)\n",
    "\n",
    "    return card_dictionary"
   ]
  },
  {
   "cell_type": "code",
   "execution_count": 17,
   "metadata": {
    "code_folding": []
   },
   "outputs": [],
   "source": [
    "# Check if cards are indeed valid\n",
    "def check_validity(deck, verbose=True):\n",
    "    card_ids = list(deck.keys())\n",
    "    is_valid = True\n",
    "\n",
    "    for index, card_id in enumerate(card_ids):\n",
    "        remaining_ids = card_ids[index + 1:]\n",
    "        current_set_of_image_ids = deck[card_id]\n",
    "\n",
    "        for e in remaining_ids:\n",
    "            s = deck[e]\n",
    "            if verbose:\n",
    "                print('** Comparing card {} with card {}:'.format(card_id, e), end=' ')\n",
    "            if len(current_set_of_image_ids.intersection(s)) != 1:\n",
    "                print('Mismatch!')\n",
    "                is_valid = False\n",
    "            else:\n",
    "                if verbose:\n",
    "                    print('Valid!')\n",
    "\n",
    "    return is_valid"
   ]
  },
  {
   "cell_type": "code",
   "execution_count": 18,
   "metadata": {
    "code_folding": []
   },
   "outputs": [],
   "source": [
    "# Printing the format in which we will print the cards later\n",
    "def print_card_format(format_card1, format_card2):\n",
    "    card1 = list(format_card1.set_of_image_ids)\n",
    "    card2 = list(format_card2.set_of_image_ids)\n",
    "\n",
    "    # Print card 1 and card 2 next to each other with 3 images in a row by default \n",
    "    for i in range(0,len(card1)-3,3):\n",
    "        print(image_dictionary[card1[i]], image_dictionary[card1[i+1]], image_dictionary[card1[i+2]], '\\t', image_dictionary[card2[i]], image_dictionary[card2[i+1]], image_dictionary[card2[i+2]])\n",
    "    \n",
    "    remainder = len(card1) % 3\n",
    "    if remainder == 2:\n",
    "        print(image_dictionary[card1[len(card1)-2]], image_dictionary[card1[len(card1)-1]], '\\t\\t', image_dictionary[card2[len(card2)-2]], image_dictionary[card2[len(card2)-1]])\n",
    "    elif remainder == 1:\n",
    "        print(image_dictionary[card1[len(card1)-1]], '\\t\\t', image_dictionary[card2[len(card2)-1]])\n",
    "\n",
    "# Printing the content of the cards        \n",
    "def print_cards(card1, card2):\n",
    "    content_card1 = set()\n",
    "    content_card2 = set()\n",
    "    \n",
    "    # Cast sets of cards to a list and add the matching images from the image_dictionary\n",
    "    for value in list(card1.set_of_image_ids):\n",
    "        content_card1.add(image_dictionary[value])\n",
    "    for value in list(card2.set_of_image_ids):\n",
    "        content_card2.add(image_dictionary[value])\n",
    "    \n",
    "    print_card_format(card1, card2)        "
   ]
  },
  {
   "cell_type": "code",
   "execution_count": 19,
   "metadata": {
    "code_folding": []
   },
   "outputs": [],
   "source": [
    "# One function that plays the game calling the other functions and methods\n",
    "def dobble_game(deck, rounds):\n",
    "  \n",
    "    print('If you want to record a draw type \\'d\\', \\'D\\' or something else. \\n')\n",
    "    score_a = 0\n",
    "    score_b = 0\n",
    "\n",
    "    card_1 = None\n",
    "    card_2 = None\n",
    "\n",
    "    for round in range(int(rounds)):\n",
    "        if card_1 is None:\n",
    "            card_1 = deck.play_card()\n",
    "            card_2 = deck.play_card()\n",
    "        else:\n",
    "            deck.remove_card(card_1.card_id)\n",
    "            card_1 = card_2\n",
    "            card_2 = deck.play_card()\n",
    "\n",
    "        print_cards(card_1, card_2)\n",
    "\n",
    "        result = input('Who wins (A or B)? ').lower()\n",
    "        print()\n",
    "        \n",
    "        if result == 'a':\n",
    "            score_a += 1\n",
    "        elif result == 'b':\n",
    "            score_b += 1\n",
    "        \n",
    "    print('Score\\nA: {}\\nB: {}'.format(score_a, score_b))"
   ]
  },
  {
   "cell_type": "code",
   "execution_count": 20,
   "metadata": {
    "code_folding": []
   },
   "outputs": [
    {
     "name": "stdout",
     "output_type": "stream",
     "text": [
      "How many rounds do you want to play (<56)? 4\n",
      "If you want to record a draw type 'd', 'D' or something else. \n",
      "\n",
      "🐕 🍎 ⛄ \t 🍎 🚑 🌟\n",
      "🐜 🚢 🎩 \t 🐴 🚽 🎺\n",
      "✊ 🍉 \t\t 💧 🍓\n",
      "Who wins (A or B)? f\n",
      "\n",
      "🍎 🚑 🌟 \t 🌴 🚓 🐴\n",
      "🐴 🚽 🎺 \t ⛺ ⚓ 🎸\n",
      "💧 🍓 \t\t 💔 🍉\n",
      "Who wins (A or B)? f\n",
      "\n",
      "🌴 🚓 🐴 \t 🌵 🚓 🐰\n",
      "⛺ ⚓ 🎸 \t ⛄ ⏰ 🎵\n",
      "💔 🍉 \t\t 🎈 💧\n",
      "Who wins (A or B)? f\n",
      "\n",
      "🌵 🚓 🐰 \t 🍌 🐸 🐢\n",
      "⛄ ⏰ 🎵 \t 🚢 🎸 💧\n",
      "🎈 💧 \t\t 🍺 🍀\n",
      "Who wins (A or B)? f\n",
      "\n",
      "Score\n",
      "A: 0\n",
      "B: 0\n"
     ]
    }
   ],
   "source": [
    "# Call the generate-cards function with 8 images for each card (as per requirement). \n",
    "cards = generate_cards(8)\n",
    "\n",
    "# Check validity of the cards and evt print error message\n",
    "is_valid = check_validity(cards, verbose=False)\n",
    "\n",
    "if not is_valid:\n",
    "    print('Deck is not valid!')\n",
    "\n",
    "# Call DobbleDeck function to create a deck with all it's methods\n",
    "deck = DobbleDeck()\n",
    "\n",
    "for card in cards.items():\n",
    "    card_id = card[0]\n",
    "    card_images = card[1]\n",
    "    card_object = DobbleCard(len(card_images), card_id, card_images)\n",
    "    deck.add_card(card_object)\n",
    "\n",
    "# Ask user how many card rounds they want to play and run the game with that amount of rounds\n",
    "rounds = input('How many rounds do you want to play (<56)? ')\n",
    "dobble_game(deck, rounds)"
   ]
  },
  {
   "cell_type": "code",
   "execution_count": null,
   "metadata": {},
   "outputs": [],
   "source": []
  },
  {
   "cell_type": "code",
   "execution_count": null,
   "metadata": {},
   "outputs": [],
   "source": []
  }
 ],
 "metadata": {
  "kernelspec": {
   "display_name": "Python 3",
   "language": "python",
   "name": "python3"
  },
  "language_info": {
   "codemirror_mode": {
    "name": "ipython",
    "version": 3
   },
   "file_extension": ".py",
   "mimetype": "text/x-python",
   "name": "python",
   "nbconvert_exporter": "python",
   "pygments_lexer": "ipython3",
   "version": "3.7.2"
  }
 },
 "nbformat": 4,
 "nbformat_minor": 2
}
